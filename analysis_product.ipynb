{
 "cells": [
  {
   "cell_type": "code",
   "execution_count": 1,
   "metadata": {},
   "outputs": [],
   "source": [
    "import pandas as pd\n",
    "import numpy as np\n",
    "import matplotlib.pyplot as plt\n",
    "import seaborn as sns"
   ]
  },
  {
   "cell_type": "markdown",
   "metadata": {},
   "source": [
    "## Read the data"
   ]
  },
  {
   "cell_type": "code",
   "execution_count": 2,
   "metadata": {},
   "outputs": [],
   "source": [
    "df_kanzler = pd.read_csv(\"data/tokped_kanzler.csv\")\n",
    "df_fiesta = pd.read_csv(\"data/tokped_fiesta.csv\")"
   ]
  },
  {
   "cell_type": "markdown",
   "metadata": {},
   "source": [
    "## Handling NaN values"
   ]
  },
  {
   "cell_type": "code",
   "execution_count": 3,
   "metadata": {},
   "outputs": [
    {
     "name": "stdout",
     "output_type": "stream",
     "text": [
      "nama_produk         0\n",
      "harga_produk        0\n",
      "penjual            12\n",
      "lokasi_toko        12\n",
      "jumlah_terjual     65\n",
      "rating_produk     111\n",
      "dtype: int64\n",
      "nama_produk        80\n",
      "harga_produk       80\n",
      "penjual            80\n",
      "lokasi_toko        80\n",
      "jumlah_terjual    539\n",
      "rating_produk     694\n",
      "dtype: int64\n"
     ]
    }
   ],
   "source": [
    "# check null values\n",
    "print(df_kanzler.isnull().sum())\n",
    "print(df_fiesta.isnull().sum())"
   ]
  },
  {
   "cell_type": "code",
   "execution_count": 4,
   "metadata": {},
   "outputs": [],
   "source": [
    "# remove null values\n",
    "df_kanzler_clean = df_kanzler.dropna()\n",
    "df_fiesta_clean = df_fiesta.dropna()"
   ]
  },
  {
   "cell_type": "code",
   "execution_count": 5,
   "metadata": {},
   "outputs": [
    {
     "name": "stdout",
     "output_type": "stream",
     "text": [
      "(2518, 6)\n",
      "(2395, 6)\n"
     ]
    }
   ],
   "source": [
    "# check before and after removing null values\n",
    "print(df_kanzler.shape)\n",
    "print(df_kanzler_clean.shape)"
   ]
  },
  {
   "cell_type": "code",
   "execution_count": 6,
   "metadata": {},
   "outputs": [
    {
     "name": "stdout",
     "output_type": "stream",
     "text": [
      "(2539, 6)\n",
      "(1845, 6)\n"
     ]
    }
   ],
   "source": [
    "print(df_fiesta.shape)\n",
    "print(df_fiesta_clean.shape)"
   ]
  },
  {
   "cell_type": "markdown",
   "metadata": {},
   "source": [
    "## Data Cleaning"
   ]
  },
  {
   "cell_type": "markdown",
   "metadata": {},
   "source": [
    "#### Kanzler"
   ]
  },
  {
   "cell_type": "code",
   "execution_count": 7,
   "metadata": {},
   "outputs": [
    {
     "name": "stderr",
     "output_type": "stream",
     "text": [
      "/tmp/ipykernel_126316/2839499909.py:2: FutureWarning: A value is trying to be set on a copy of a DataFrame or Series through chained assignment using an inplace method.\n",
      "The behavior will change in pandas 3.0. This inplace method will never work because the intermediate object on which we are setting values always behaves as a copy.\n",
      "\n",
      "For example, when doing 'df[col].method(value, inplace=True)', try using 'df.method({col: value}, inplace=True)' or df[col] = df[col].method(value) instead, to perform the operation inplace on the original object.\n",
      "\n",
      "\n",
      "  df_kanzler_clean['harga_produk'].replace('Rp','', regex=True, inplace=True)\n",
      "/tmp/ipykernel_126316/2839499909.py:2: SettingWithCopyWarning: \n",
      "A value is trying to be set on a copy of a slice from a DataFrame\n",
      "\n",
      "See the caveats in the documentation: https://pandas.pydata.org/pandas-docs/stable/user_guide/indexing.html#returning-a-view-versus-a-copy\n",
      "  df_kanzler_clean['harga_produk'].replace('Rp','', regex=True, inplace=True)\n",
      "/tmp/ipykernel_126316/2839499909.py:3: FutureWarning: A value is trying to be set on a copy of a DataFrame or Series through chained assignment using an inplace method.\n",
      "The behavior will change in pandas 3.0. This inplace method will never work because the intermediate object on which we are setting values always behaves as a copy.\n",
      "\n",
      "For example, when doing 'df[col].method(value, inplace=True)', try using 'df.method({col: value}, inplace=True)' or df[col] = df[col].method(value) instead, to perform the operation inplace on the original object.\n",
      "\n",
      "\n",
      "  df_kanzler_clean['harga_produk'].replace('\\.','', regex=True, inplace=True)\n",
      "/tmp/ipykernel_126316/2839499909.py:3: SettingWithCopyWarning: \n",
      "A value is trying to be set on a copy of a slice from a DataFrame\n",
      "\n",
      "See the caveats in the documentation: https://pandas.pydata.org/pandas-docs/stable/user_guide/indexing.html#returning-a-view-versus-a-copy\n",
      "  df_kanzler_clean['harga_produk'].replace('\\.','', regex=True, inplace=True)\n",
      "/tmp/ipykernel_126316/2839499909.py:4: FutureWarning: A value is trying to be set on a copy of a DataFrame or Series through chained assignment using an inplace method.\n",
      "The behavior will change in pandas 3.0. This inplace method will never work because the intermediate object on which we are setting values always behaves as a copy.\n",
      "\n",
      "For example, when doing 'df[col].method(value, inplace=True)', try using 'df.method({col: value}, inplace=True)' or df[col] = df[col].method(value) instead, to perform the operation inplace on the original object.\n",
      "\n",
      "\n",
      "  df_kanzler_clean['jumlah_terjual'].replace('\\+ terjual','', regex=True, inplace=True)\n",
      "/tmp/ipykernel_126316/2839499909.py:4: SettingWithCopyWarning: \n",
      "A value is trying to be set on a copy of a slice from a DataFrame\n",
      "\n",
      "See the caveats in the documentation: https://pandas.pydata.org/pandas-docs/stable/user_guide/indexing.html#returning-a-view-versus-a-copy\n",
      "  df_kanzler_clean['jumlah_terjual'].replace('\\+ terjual','', regex=True, inplace=True)\n",
      "/tmp/ipykernel_126316/2839499909.py:5: FutureWarning: A value is trying to be set on a copy of a DataFrame or Series through chained assignment using an inplace method.\n",
      "The behavior will change in pandas 3.0. This inplace method will never work because the intermediate object on which we are setting values always behaves as a copy.\n",
      "\n",
      "For example, when doing 'df[col].method(value, inplace=True)', try using 'df.method({col: value}, inplace=True)' or df[col] = df[col].method(value) instead, to perform the operation inplace on the original object.\n",
      "\n",
      "\n",
      "  df_kanzler_clean['jumlah_terjual'].replace('terjual','', regex=True, inplace=True)\n",
      "/tmp/ipykernel_126316/2839499909.py:5: SettingWithCopyWarning: \n",
      "A value is trying to be set on a copy of a slice from a DataFrame\n",
      "\n",
      "See the caveats in the documentation: https://pandas.pydata.org/pandas-docs/stable/user_guide/indexing.html#returning-a-view-versus-a-copy\n",
      "  df_kanzler_clean['jumlah_terjual'].replace('terjual','', regex=True, inplace=True)\n",
      "/tmp/ipykernel_126316/2839499909.py:6: FutureWarning: A value is trying to be set on a copy of a DataFrame or Series through chained assignment using an inplace method.\n",
      "The behavior will change in pandas 3.0. This inplace method will never work because the intermediate object on which we are setting values always behaves as a copy.\n",
      "\n",
      "For example, when doing 'df[col].method(value, inplace=True)', try using 'df.method({col: value}, inplace=True)' or df[col] = df[col].method(value) instead, to perform the operation inplace on the original object.\n",
      "\n",
      "\n",
      "  df_kanzler_clean['jumlah_terjual'].replace('rb',\"000\", regex=True, inplace=True)\n",
      "/tmp/ipykernel_126316/2839499909.py:6: SettingWithCopyWarning: \n",
      "A value is trying to be set on a copy of a slice from a DataFrame\n",
      "\n",
      "See the caveats in the documentation: https://pandas.pydata.org/pandas-docs/stable/user_guide/indexing.html#returning-a-view-versus-a-copy\n",
      "  df_kanzler_clean['jumlah_terjual'].replace('rb',\"000\", regex=True, inplace=True)\n"
     ]
    }
   ],
   "source": [
    "# Syntax to change symbols that are not used in values\n",
    "df_kanzler_clean['harga_produk'].replace('Rp','', regex=True, inplace=True)\n",
    "df_kanzler_clean['harga_produk'].replace('\\.','', regex=True, inplace=True)\n",
    "df_kanzler_clean['jumlah_terjual'].replace('\\+ terjual','', regex=True, inplace=True)\n",
    "df_kanzler_clean['jumlah_terjual'].replace('terjual','', regex=True, inplace=True)\n",
    "df_kanzler_clean['jumlah_terjual'].replace('rb',\"000\", regex=True, inplace=True)"
   ]
  },
  {
   "cell_type": "code",
   "execution_count": 8,
   "metadata": {},
   "outputs": [
    {
     "name": "stderr",
     "output_type": "stream",
     "text": [
      "/tmp/ipykernel_126316/1789763389.py:1: SettingWithCopyWarning: \n",
      "A value is trying to be set on a copy of a slice from a DataFrame.\n",
      "Try using .loc[row_indexer,col_indexer] = value instead\n",
      "\n",
      "See the caveats in the documentation: https://pandas.pydata.org/pandas-docs/stable/user_guide/indexing.html#returning-a-view-versus-a-copy\n",
      "  df_kanzler_clean.harga_produk = df_kanzler_clean.harga_produk.astype('int64')\n",
      "/tmp/ipykernel_126316/1789763389.py:2: SettingWithCopyWarning: \n",
      "A value is trying to be set on a copy of a slice from a DataFrame.\n",
      "Try using .loc[row_indexer,col_indexer] = value instead\n",
      "\n",
      "See the caveats in the documentation: https://pandas.pydata.org/pandas-docs/stable/user_guide/indexing.html#returning-a-view-versus-a-copy\n",
      "  df_kanzler_clean.jumlah_terjual = df_kanzler_clean.jumlah_terjual.astype('int64')\n"
     ]
    }
   ],
   "source": [
    "df_kanzler_clean.harga_produk = df_kanzler_clean.harga_produk.astype('int64')\n",
    "df_kanzler_clean.jumlah_terjual = df_kanzler_clean.jumlah_terjual.astype('int64')"
   ]
  },
  {
   "cell_type": "code",
   "execution_count": 9,
   "metadata": {},
   "outputs": [
    {
     "name": "stdout",
     "output_type": "stream",
     "text": [
      "<class 'pandas.core.frame.DataFrame'>\n",
      "Index: 1877 entries, 0 to 2512\n",
      "Data columns (total 6 columns):\n",
      " #   Column          Non-Null Count  Dtype  \n",
      "---  ------          --------------  -----  \n",
      " 0   nama_produk     1877 non-null   object \n",
      " 1   harga_produk    1877 non-null   int64  \n",
      " 2   penjual         1877 non-null   object \n",
      " 3   lokasi_toko     1877 non-null   object \n",
      " 4   jumlah_terjual  1877 non-null   int64  \n",
      " 5   rating_produk   1877 non-null   float64\n",
      "dtypes: float64(1), int64(2), object(3)\n",
      "memory usage: 102.6+ KB\n"
     ]
    }
   ],
   "source": [
    "df_kanzler_clean = df_kanzler_clean.drop_duplicates()\n",
    "df_kanzler_clean.info()"
   ]
  },
  {
   "cell_type": "markdown",
   "metadata": {},
   "source": [
    "#### Fiesta"
   ]
  },
  {
   "cell_type": "code",
   "execution_count": 10,
   "metadata": {},
   "outputs": [
    {
     "name": "stderr",
     "output_type": "stream",
     "text": [
      "/tmp/ipykernel_126316/3095342735.py:2: FutureWarning: A value is trying to be set on a copy of a DataFrame or Series through chained assignment using an inplace method.\n",
      "The behavior will change in pandas 3.0. This inplace method will never work because the intermediate object on which we are setting values always behaves as a copy.\n",
      "\n",
      "For example, when doing 'df[col].method(value, inplace=True)', try using 'df.method({col: value}, inplace=True)' or df[col] = df[col].method(value) instead, to perform the operation inplace on the original object.\n",
      "\n",
      "\n",
      "  df_fiesta_clean['harga_produk'].replace('Rp','', regex=True, inplace=True)\n",
      "/tmp/ipykernel_126316/3095342735.py:2: SettingWithCopyWarning: \n",
      "A value is trying to be set on a copy of a slice from a DataFrame\n",
      "\n",
      "See the caveats in the documentation: https://pandas.pydata.org/pandas-docs/stable/user_guide/indexing.html#returning-a-view-versus-a-copy\n",
      "  df_fiesta_clean['harga_produk'].replace('Rp','', regex=True, inplace=True)\n",
      "/tmp/ipykernel_126316/3095342735.py:3: FutureWarning: A value is trying to be set on a copy of a DataFrame or Series through chained assignment using an inplace method.\n",
      "The behavior will change in pandas 3.0. This inplace method will never work because the intermediate object on which we are setting values always behaves as a copy.\n",
      "\n",
      "For example, when doing 'df[col].method(value, inplace=True)', try using 'df.method({col: value}, inplace=True)' or df[col] = df[col].method(value) instead, to perform the operation inplace on the original object.\n",
      "\n",
      "\n",
      "  df_fiesta_clean['harga_produk'].replace('\\.','', regex=True, inplace=True)\n",
      "/tmp/ipykernel_126316/3095342735.py:3: SettingWithCopyWarning: \n",
      "A value is trying to be set on a copy of a slice from a DataFrame\n",
      "\n",
      "See the caveats in the documentation: https://pandas.pydata.org/pandas-docs/stable/user_guide/indexing.html#returning-a-view-versus-a-copy\n",
      "  df_fiesta_clean['harga_produk'].replace('\\.','', regex=True, inplace=True)\n",
      "/tmp/ipykernel_126316/3095342735.py:4: FutureWarning: A value is trying to be set on a copy of a DataFrame or Series through chained assignment using an inplace method.\n",
      "The behavior will change in pandas 3.0. This inplace method will never work because the intermediate object on which we are setting values always behaves as a copy.\n",
      "\n",
      "For example, when doing 'df[col].method(value, inplace=True)', try using 'df.method({col: value}, inplace=True)' or df[col] = df[col].method(value) instead, to perform the operation inplace on the original object.\n",
      "\n",
      "\n",
      "  df_fiesta_clean['jumlah_terjual'].replace('\\+ terjual','', regex=True, inplace=True)\n",
      "/tmp/ipykernel_126316/3095342735.py:4: SettingWithCopyWarning: \n",
      "A value is trying to be set on a copy of a slice from a DataFrame\n",
      "\n",
      "See the caveats in the documentation: https://pandas.pydata.org/pandas-docs/stable/user_guide/indexing.html#returning-a-view-versus-a-copy\n",
      "  df_fiesta_clean['jumlah_terjual'].replace('\\+ terjual','', regex=True, inplace=True)\n",
      "/tmp/ipykernel_126316/3095342735.py:5: FutureWarning: A value is trying to be set on a copy of a DataFrame or Series through chained assignment using an inplace method.\n",
      "The behavior will change in pandas 3.0. This inplace method will never work because the intermediate object on which we are setting values always behaves as a copy.\n",
      "\n",
      "For example, when doing 'df[col].method(value, inplace=True)', try using 'df.method({col: value}, inplace=True)' or df[col] = df[col].method(value) instead, to perform the operation inplace on the original object.\n",
      "\n",
      "\n",
      "  df_fiesta_clean['jumlah_terjual'].replace('terjual','', regex=True, inplace=True)\n",
      "/tmp/ipykernel_126316/3095342735.py:5: SettingWithCopyWarning: \n",
      "A value is trying to be set on a copy of a slice from a DataFrame\n",
      "\n",
      "See the caveats in the documentation: https://pandas.pydata.org/pandas-docs/stable/user_guide/indexing.html#returning-a-view-versus-a-copy\n",
      "  df_fiesta_clean['jumlah_terjual'].replace('terjual','', regex=True, inplace=True)\n",
      "/tmp/ipykernel_126316/3095342735.py:6: FutureWarning: A value is trying to be set on a copy of a DataFrame or Series through chained assignment using an inplace method.\n",
      "The behavior will change in pandas 3.0. This inplace method will never work because the intermediate object on which we are setting values always behaves as a copy.\n",
      "\n",
      "For example, when doing 'df[col].method(value, inplace=True)', try using 'df.method({col: value}, inplace=True)' or df[col] = df[col].method(value) instead, to perform the operation inplace on the original object.\n",
      "\n",
      "\n",
      "  df_fiesta_clean['jumlah_terjual'].replace('rb',\"000\", regex=True, inplace=True)\n",
      "/tmp/ipykernel_126316/3095342735.py:6: SettingWithCopyWarning: \n",
      "A value is trying to be set on a copy of a slice from a DataFrame\n",
      "\n",
      "See the caveats in the documentation: https://pandas.pydata.org/pandas-docs/stable/user_guide/indexing.html#returning-a-view-versus-a-copy\n",
      "  df_fiesta_clean['jumlah_terjual'].replace('rb',\"000\", regex=True, inplace=True)\n"
     ]
    }
   ],
   "source": [
    "# Syntax to change symbols that are not used in values\n",
    "df_fiesta_clean['harga_produk'].replace('Rp','', regex=True, inplace=True)\n",
    "df_fiesta_clean['harga_produk'].replace('\\.','', regex=True, inplace=True)\n",
    "df_fiesta_clean['jumlah_terjual'].replace('\\+ terjual','', regex=True, inplace=True)\n",
    "df_fiesta_clean['jumlah_terjual'].replace('terjual','', regex=True, inplace=True)\n",
    "df_fiesta_clean['jumlah_terjual'].replace('rb',\"000\", regex=True, inplace=True)"
   ]
  },
  {
   "cell_type": "code",
   "execution_count": 11,
   "metadata": {},
   "outputs": [
    {
     "name": "stderr",
     "output_type": "stream",
     "text": [
      "/tmp/ipykernel_126316/1545875515.py:1: SettingWithCopyWarning: \n",
      "A value is trying to be set on a copy of a slice from a DataFrame.\n",
      "Try using .loc[row_indexer,col_indexer] = value instead\n",
      "\n",
      "See the caveats in the documentation: https://pandas.pydata.org/pandas-docs/stable/user_guide/indexing.html#returning-a-view-versus-a-copy\n",
      "  df_fiesta_clean.harga_produk = df_fiesta_clean.harga_produk.astype('int64')\n",
      "/tmp/ipykernel_126316/1545875515.py:2: SettingWithCopyWarning: \n",
      "A value is trying to be set on a copy of a slice from a DataFrame.\n",
      "Try using .loc[row_indexer,col_indexer] = value instead\n",
      "\n",
      "See the caveats in the documentation: https://pandas.pydata.org/pandas-docs/stable/user_guide/indexing.html#returning-a-view-versus-a-copy\n",
      "  df_fiesta_clean.jumlah_terjual = df_fiesta_clean.jumlah_terjual.astype('int64')\n"
     ]
    }
   ],
   "source": [
    "df_fiesta_clean.harga_produk = df_fiesta_clean.harga_produk.astype('int64')\n",
    "df_fiesta_clean.jumlah_terjual = df_fiesta_clean.jumlah_terjual.astype('int64')"
   ]
  },
  {
   "cell_type": "code",
   "execution_count": 12,
   "metadata": {},
   "outputs": [
    {
     "name": "stdout",
     "output_type": "stream",
     "text": [
      "<class 'pandas.core.frame.DataFrame'>\n",
      "Index: 1364 entries, 0 to 2533\n",
      "Data columns (total 6 columns):\n",
      " #   Column          Non-Null Count  Dtype  \n",
      "---  ------          --------------  -----  \n",
      " 0   nama_produk     1364 non-null   object \n",
      " 1   harga_produk    1364 non-null   int64  \n",
      " 2   penjual         1364 non-null   object \n",
      " 3   lokasi_toko     1364 non-null   object \n",
      " 4   jumlah_terjual  1364 non-null   int64  \n",
      " 5   rating_produk   1364 non-null   float64\n",
      "dtypes: float64(1), int64(2), object(3)\n",
      "memory usage: 74.6+ KB\n"
     ]
    }
   ],
   "source": [
    "df_fiesta_clean = df_fiesta_clean.drop_duplicates()\n",
    "df_fiesta_clean.info()"
   ]
  },
  {
   "cell_type": "code",
   "execution_count": null,
   "metadata": {},
   "outputs": [],
   "source": []
  }
 ],
 "metadata": {
  "kernelspec": {
   "display_name": "Python 3",
   "language": "python",
   "name": "python3"
  },
  "language_info": {
   "codemirror_mode": {
    "name": "ipython",
    "version": 3
   },
   "file_extension": ".py",
   "mimetype": "text/x-python",
   "name": "python",
   "nbconvert_exporter": "python",
   "pygments_lexer": "ipython3",
   "version": "3.10.12"
  }
 },
 "nbformat": 4,
 "nbformat_minor": 2
}
