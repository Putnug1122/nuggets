{
 "cells": [
  {
   "cell_type": "code",
   "execution_count": 16,
   "metadata": {},
   "outputs": [],
   "source": [
    "from webdriver_manager.chrome import ChromeDriverManager\n",
    "from selenium import webdriver\n",
    "from selenium.webdriver.common.by import By\n",
    "from selenium.webdriver.chrome.options import Options\n",
    "from selenium.webdriver.chrome.service import Service\n",
    "from selenium.webdriver.support.ui import WebDriverWait\n",
    "from selenium.webdriver.support import expected_conditions as EC\n",
    "from bs4 import BeautifulSoup\n",
    "import pandas as pd\n",
    "import time"
   ]
  },
  {
   "cell_type": "code",
   "execution_count": 17,
   "metadata": {},
   "outputs": [],
   "source": [
    "chrome_options = Options()\n",
    "chrome_options.add_argument(\"--start-maximized\")"
   ]
  },
  {
   "cell_type": "code",
   "execution_count": 18,
   "metadata": {},
   "outputs": [],
   "source": [
    "# empty list to store the required information\n",
    "list_nama = []\n",
    "list_harga = []\n",
    "list_penjual = []\n",
    "list_kota = []\n",
    "list_sold = []\n",
    "list_rating = []"
   ]
  },
  {
   "cell_type": "code",
   "execution_count": 19,
   "metadata": {},
   "outputs": [],
   "source": [
    "driver = webdriver.Chrome(service=Service(ChromeDriverManager().install()))\n",
    "\n",
    "for i in range(1,31):\n",
    "    tokped_link = (f'https://www.tokopedia.com/search?navsource=&page={i}&q=fiesta+nugget&srp_component_id=02.01.00.00&srp_page_id=&srp_page_title=&st=')\n",
    "    driver.get(tokped_link)\n",
    "    \n",
    "  # syntax for scrolling slowly to get all the desired data.\n",
    "    total_height = int(driver.execute_script(\"return document.body.scrollHeight\"))\n",
    "    for i in range(1, total_height, 5):\n",
    "        driver.execute_script(\"window.scrollTo(0, {});\".format(i))\n",
    "    html = driver.page_source\n",
    "    soup = BeautifulSoup(html, 'html.parser')\n",
    "    # syntax to search for the class and attributes of the desired html (desired section.)\n",
    "    elements = soup.find_all('div', {'class':\"css-jza1fo\",\n",
    "                                     'class' :\"css-llwpbs\"})\n",
    "        \n",
    "    #result of looping from var. elements are reduced by looping to search\n",
    "    #name, price, seller, city, rating and quantity sold.                 \n",
    "    for el in elements:\n",
    "        try:\n",
    "            nama = el.find('div', {'class':\"prd_link-product-name css-3um8ox\",\n",
    "                                    'data-testid':\"spnSRPProdName\"})\n",
    "            list_nama.append(nama.get_text())\n",
    "        except:\n",
    "            list_nama.append(None)\n",
    "\n",
    "        try:\n",
    "            harga = el.find('div', {'class':\"prd_link-product-price css-h66vau\",\n",
    "                                    'data-testid':\"spnSRPProdPrice\"})\n",
    "            list_harga.append(harga.get_text())\n",
    "        except:\n",
    "            list_harga.append(None)\n",
    "\n",
    "        try:\n",
    "            penjual = el.find('span', {'class':\"prd_link-shop-name css-1kdc32b flip\",\n",
    "                                    'data-testid':\"\"})\n",
    "            list_penjual.append(penjual.get_text())\n",
    "        except:\n",
    "            list_penjual.append(None)\n",
    "\n",
    "        try:\n",
    "            kota = el.find('span', {'class':\"prd_link-shop-loc css-1kdc32b flip\",\n",
    "                                    'data-testid':\"spnSRPProdTabShopLoc\"})\n",
    "            list_kota.append(kota.get_text())\n",
    "        except:\n",
    "            list_kota.append(None)\n",
    "        try:\n",
    "            sold = el.find('span', {'class':\"prd_label-integrity css-1sgek4h\",\n",
    "                                    'data-testid':\"\"})\n",
    "            list_sold.append(sold.get_text())\n",
    "        except:\n",
    "            list_sold.append(None)\n",
    "\n",
    "        try:\n",
    "            rating = el.find('span', {'class':\"prd_rating-average-text css-t70v7i\",\n",
    "                                    'data-testid':\"\"})\n",
    "            list_rating.append(rating.get_text())\n",
    "        except:\n",
    "            list_rating.append(None)\n",
    "\n"
   ]
  },
  {
   "cell_type": "code",
   "execution_count": 20,
   "metadata": {},
   "outputs": [
    {
     "name": "stdout",
     "output_type": "stream",
     "text": [
      "2539\n",
      "2539\n",
      "2539\n",
      "2539\n",
      "2539\n",
      "2539\n"
     ]
    }
   ],
   "source": [
    "print(len(list_nama))\n",
    "print(len(list_harga))\n",
    "print(len(list_penjual))\n",
    "print(len(list_kota))\n",
    "print(len(list_sold))\n",
    "print(len(list_rating))"
   ]
  },
  {
   "cell_type": "code",
   "execution_count": 21,
   "metadata": {},
   "outputs": [],
   "source": [
    "tokped_df = pd.DataFrame({\n",
    "    'nama_produk' : list_nama,\n",
    "    'harga_produk' : list_harga,\n",
    "    'penjual' : list_penjual,\n",
    "    'lokasi_toko': list_kota,\n",
    "    'jumlah_terjual' : list_sold,\n",
    "    'rating_produk' : list_rating\n",
    "})"
   ]
  },
  {
   "cell_type": "code",
   "execution_count": 22,
   "metadata": {},
   "outputs": [],
   "source": [
    "tokped_df.to_csv('tokped_fiesta.csv', index=False)"
   ]
  },
  {
   "cell_type": "code",
   "execution_count": null,
   "metadata": {},
   "outputs": [],
   "source": []
  }
 ],
 "metadata": {
  "kernelspec": {
   "display_name": "Python 3",
   "language": "python",
   "name": "python3"
  },
  "language_info": {
   "codemirror_mode": {
    "name": "ipython",
    "version": 3
   },
   "file_extension": ".py",
   "mimetype": "text/x-python",
   "name": "python",
   "nbconvert_exporter": "python",
   "pygments_lexer": "ipython3",
   "version": "3.10.12"
  }
 },
 "nbformat": 4,
 "nbformat_minor": 2
}
